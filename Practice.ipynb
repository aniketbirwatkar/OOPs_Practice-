{
 "cells": [
  {
   "cell_type": "code",
   "execution_count": 1,
   "metadata": {},
   "outputs": [],
   "source": [
    "class Person : \n",
    "    def __init__ (self, first_name, second_name): \n",
    "        self.first_name = first_name \n",
    "        self.second_name = second_name \n",
    "\n"
   ]
  },
  {
   "cell_type": "code",
   "execution_count": 3,
   "metadata": {},
   "outputs": [],
   "source": [
    "person1 = Person(\"Aniket\", \"Birwatkar\")  "
   ]
  },
  {
   "cell_type": "code",
   "execution_count": 10,
   "metadata": {},
   "outputs": [
    {
     "data": {
      "text/plain": [
       "'Birwatkar'"
      ]
     },
     "execution_count": 10,
     "metadata": {},
     "output_type": "execute_result"
    }
   ],
   "source": [
    "person1.first_name\n",
    "person1.second_name"
   ]
  },
  {
   "cell_type": "code",
   "execution_count": 11,
   "metadata": {},
   "outputs": [
    {
     "name": "stdout",
     "output_type": "stream",
     "text": [
      "<__main__.Person object at 0x000001AA213E0710>\n"
     ]
    }
   ],
   "source": [
    "print (person1)"
   ]
  },
  {
   "cell_type": "code",
   "execution_count": 34,
   "metadata": {},
   "outputs": [],
   "source": [
    "class Person : \n",
    "    def __init__ (self, first_name, second_name): \n",
    "        self.first_name = first_name \n",
    "        self.second_name = second_name \n",
    "    def __str__ (self) : \n",
    "        return \"Name is {}. Last name is {}.\".format (self.first_name, self.second_name)"
   ]
  },
  {
   "cell_type": "code",
   "execution_count": 35,
   "metadata": {},
   "outputs": [
    {
     "name": "stdout",
     "output_type": "stream",
     "text": [
      "Name is Aniket. Last name is Birwatkar.\n"
     ]
    }
   ],
   "source": [
    "person1 = Person (\"Aniket\", \"Birwatkar\")\n",
    "print (person1)"
   ]
  },
  {
   "cell_type": "code",
   "execution_count": 36,
   "metadata": {},
   "outputs": [
    {
     "name": "stdout",
     "output_type": "stream",
     "text": [
      "Name is Aniket. Last name is Birwatkar.\n"
     ]
    }
   ],
   "source": [
    "print (person1)"
   ]
  },
  {
   "cell_type": "code",
   "execution_count": 58,
   "metadata": {},
   "outputs": [],
   "source": [
    "class Bank : \n",
    "    def __init__ (self, account_holder, account_number, balance=0) : \n",
    "        self.account_holder = account_holder\n",
    "        self.account_number = account_number\n",
    "        self.balance = balance\n",
    "\n",
    "    def display (self) : \n",
    "        print (f\"Initial balance of {self.account_holder} of acc number {self.account_number} was {self.balance} Rs.\")\n",
    "\n",
    "    def deposit (self,amount) : \n",
    "        self.balance= self.balance + amount \n",
    "        print (f\"After depositing the {amount} now new balance is {self.balance}\")\n",
    "\n",
    "    def withdrawl (self,withdrawl_amt) : \n",
    "        if withdrawl_amt <= self.balance : \n",
    "            print (f\"The {self.account_holder} have withdrawn {withdrawl_amt}\")\n",
    "        else : \n",
    "            print (\"Insufficient balance\")\n",
    "\n",
    "    "
   ]
  },
  {
   "cell_type": "code",
   "execution_count": 59,
   "metadata": {},
   "outputs": [
    {
     "name": "stdout",
     "output_type": "stream",
     "text": [
      "Initial balance of Aniket of acc number 97148169 was 9000 Rs.\n"
     ]
    }
   ],
   "source": [
    "aniket = Bank (\"Aniket\", 97148169, 9000)\n",
    "aniket.display()"
   ]
  },
  {
   "cell_type": "code",
   "execution_count": 60,
   "metadata": {},
   "outputs": [
    {
     "name": "stdout",
     "output_type": "stream",
     "text": [
      "After depositing the 6000 now new balance is 15000\n"
     ]
    }
   ],
   "source": [
    "aniket.deposit(6000)\n"
   ]
  },
  {
   "cell_type": "code",
   "execution_count": 61,
   "metadata": {},
   "outputs": [
    {
     "name": "stdout",
     "output_type": "stream",
     "text": [
      "Insufficient balance\n"
     ]
    }
   ],
   "source": [
    "aniket.withdrawl (16000)"
   ]
  },
  {
   "cell_type": "code",
   "execution_count": 62,
   "metadata": {},
   "outputs": [
    {
     "name": "stdout",
     "output_type": "stream",
     "text": [
      "The Aniket have withdrawn 15000\n"
     ]
    }
   ],
   "source": [
    "aniket.withdrawl (15000)"
   ]
  },
  {
   "cell_type": "code",
   "execution_count": 139,
   "metadata": {},
   "outputs": [],
   "source": [
    "class TodoList : \n",
    "    def __init__ (self, name): \n",
    "        self.name = name \n",
    "        self.tasks = []\n",
    "\n",
    "    def add_task (self, task): \n",
    "        self.tasks.append(task)\n",
    "        print (f\"Following tasks are scheduled to be done {self.tasks}. \" )\n",
    "\n",
    "    def remove_task (self, task) : \n",
    "        if task in self.tasks : \n",
    "            self.tasks.remove (task)\n",
    "            print (f\"The following task {task} has been removed.\")\n",
    "        else : \n",
    "            print (f\"Task is not presesnt in To do List.\")\n",
    "\n",
    "    def display_task (self) : \n",
    "        print (f\"The task are {self.tasks}\")\n",
    "        \n",
    "\n"
   ]
  },
  {
   "cell_type": "code",
   "execution_count": 140,
   "metadata": {},
   "outputs": [],
   "source": [
    "aniket = TodoList (\"Aniket\")"
   ]
  },
  {
   "cell_type": "code",
   "execution_count": 141,
   "metadata": {},
   "outputs": [
    {
     "name": "stdout",
     "output_type": "stream",
     "text": [
      "Following tasks are scheduled to be done ['To visit bank']. \n"
     ]
    }
   ],
   "source": [
    "aniket.add_task(\"To visit bank\")"
   ]
  },
  {
   "cell_type": "code",
   "execution_count": 143,
   "metadata": {},
   "outputs": [
    {
     "name": "stdout",
     "output_type": "stream",
     "text": [
      "Following tasks are scheduled to be done ['To visit bank', 'To have a lunch', 'To have a lunch']. \n"
     ]
    }
   ],
   "source": [
    "aniket.add_task (\"To have a lunch\")"
   ]
  },
  {
   "cell_type": "code",
   "execution_count": 145,
   "metadata": {},
   "outputs": [
    {
     "name": "stdout",
     "output_type": "stream",
     "text": [
      "Following tasks are scheduled to be done ['To visit bank', 'To have a lunch', 'To have a lunch', 'To study', 'To study']. \n"
     ]
    }
   ],
   "source": [
    "aniket.add_task (\"To study\")"
   ]
  },
  {
   "cell_type": "code",
   "execution_count": 146,
   "metadata": {},
   "outputs": [
    {
     "name": "stdout",
     "output_type": "stream",
     "text": [
      "The following task To visit bank has been removed.\n"
     ]
    }
   ],
   "source": [
    "aniket.remove_task (\"To visit bank\")"
   ]
  },
  {
   "cell_type": "code",
   "execution_count": 147,
   "metadata": {},
   "outputs": [
    {
     "name": "stdout",
     "output_type": "stream",
     "text": [
      "The task are ['To have a lunch', 'To have a lunch', 'To study', 'To study']\n"
     ]
    }
   ],
   "source": [
    "aniket.display_task()"
   ]
  }
 ],
 "metadata": {
  "kernelspec": {
   "display_name": "Python 3",
   "language": "python",
   "name": "python3"
  },
  "language_info": {
   "codemirror_mode": {
    "name": "ipython",
    "version": 3
   },
   "file_extension": ".py",
   "mimetype": "text/x-python",
   "name": "python",
   "nbconvert_exporter": "python",
   "pygments_lexer": "ipython3",
   "version": "3.11.5"
  }
 },
 "nbformat": 4,
 "nbformat_minor": 2
}
